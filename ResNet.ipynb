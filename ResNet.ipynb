{
 "cells": [
  {
   "cell_type": "code",
   "execution_count": 1,
   "metadata": {
    "collapsed": false
   },
   "outputs": [],
   "source": [
    "## Setup\n",
    "from __future__ import print_function\n",
    "import time, os, json\n",
    "import numpy as np\n",
    "import matplotlib.pyplot as plt\n",
    "import tensorflow as tf\n",
    "import csv\n",
    "\n",
    "%matplotlib inline\n",
    "plt.rcParams['figure.figsize'] = (10.0, 8.0) # set default size of plots\n",
    "plt.rcParams['image.interpolation'] = 'nearest'\n",
    "plt.rcParams['image.cmap'] = 'gray'\n",
    "\n",
    "def get_session():\n",
    "    \"\"\"Create a session that dynamically allocates memory.\"\"\"\n",
    "    # See: https://www.tensorflow.org/tutorials/using_gpu#allowing_gpu_memory_growth\n",
    "    config = tf.ConfigProto()\n",
    "    config.gpu_options.allow_growth = True\n",
    "    session = tf.Session(config=config)\n",
    "    return session\n",
    "\n",
    "# for auto-reloading external modules\n",
    "# see http://stackoverflow.com/questions/1907993/autoreload-of-modules-in-ipython\n",
    "%load_ext autoreload\n",
    "%autoreload 2\n"
   ]
  },
  {
   "cell_type": "code",
   "execution_count": 2,
   "metadata": {
    "collapsed": false
   },
   "outputs": [
    {
     "name": "stdout",
     "output_type": "stream",
     "text": [
      "Loading vector data\n",
      "Loading image data\n",
      "flows_lowres_1_16.npy\n",
      "flows_lowres_2_16.npy\n",
      "flows_lowres_3_16.npy\n",
      "flows_lowres_4_16.npy\n",
      "flows_lowres_5_16.npy\n",
      "flows_lowres_6_16.npy\n",
      "flows_lowres_7_16.npy\n",
      "flows_lowres_8_16.npy\n",
      "flows_lowres_9_16.npy\n",
      "flows_lowres_10_16.npy\n",
      "flows_lowres_11_16.npy\n",
      "flows_lowres_12_16.npy\n",
      "flows_lowres_13_16.npy\n",
      "flows_lowres_14_16.npy\n",
      "flows_lowres_15_16.npy\n",
      "flows_lowres_16_16.npy\n",
      "Preprocessing data\n"
     ]
    }
   ],
   "source": [
    "BATCH_SIZE = 64\n",
    "NUM_CLASSES = 16\n",
    "TRAIN_RATIO = 0.6\n",
    "\n",
    "import utilities\n",
    "# Datafile options:\n",
    "#imu_data,x_data,y_norm = utilities.load_data('/media/Big_Data/stefantj/flows_lowres_16k.npy')\n",
    "#imu_data,flows_data,y_norm = utilities.load_data('../gbucket/center_cropped_300x300.npy')\n",
    "#imu_data,x_data,y_norm = utilities.load_data('../gbucket/center_cropped_192x192.npy')\n",
    "imu_data,x_data,y_norm = utilities.load_data(['flows_lowres_1_16.npy','flows_lowres_2_16.npy','flows_lowres_3_16.npy','flows_lowres_4_16.npy','flows_lowres_5_16.npy','flows_lowres_6_16.npy','flows_lowres_7_16.npy','flows_lowres_8_16.npy','flows_lowres_9_16.npy','flows_lowres_10_16.npy','flows_lowres_11_16.npy','flows_lowres_12_16.npy','flows_lowres_13_16.npy','flows_lowres_14_16.npy','flows_lowres_15_16.npy','flows_lowres_16_16.npy'])# Split into training/val data:\n",
    "N_training = int(TRAIN_RATIO*x_data.shape[0])\n",
    "N_validation = x_data.shape[0]- N_training\n",
    "\n",
    "y_data, mean_vals = utilities.discretize_outputs(y_norm[0:N_training], NUM_CLASSES)\n",
    "y_data, mean_vals = utilities.discretize_outputs(y_norm, NUM_CLASSES)\n",
    "\n",
    "x_train = x_data[0:N_training,...]\n",
    "y_train = y_data[0:N_training]\n",
    "\n",
    "x_val = x_data[N_training:,...]\n",
    "y_val = y_data[N_training:]\n"
   ]
  },
  {
   "cell_type": "code",
   "execution_count": 3,
   "metadata": {
    "collapsed": false,
    "scrolled": false
   },
   "outputs": [
    {
     "name": "stdout",
     "output_type": "stream",
     "text": [
      "Step:  0  Cost:  3.72909  LR:  0.01\n",
      "[ 0.02042483  0.14770205  0.05017251  0.00937276  0.02092651  0.03488031\n",
      "  0.04333722  0.02505529  0.08860323  0.01205038  0.01833478  0.01584185\n",
      "  0.16855596  0.07024016  0.172185    0.10231724]\n",
      "Step:  1  Cost:  4.30366  LR:  0.01\n",
      "[ 0.05193567  0.16155492  0.1078655   0.01287588  0.06115754  0.07828233\n",
      "  0.0590331   0.10979384  0.04883147  0.02322232  0.02898748  0.01318973\n",
      "  0.05658418  0.05799892  0.11407801  0.01460909]\n",
      "Step:  2  Cost:  4.88092  LR:  0.01\n",
      "[ 0.07561139  0.07427808  0.07568002  0.03292467  0.07036099  0.06538712\n",
      "  0.15266795  0.06164448  0.03797018  0.05249106  0.06489255  0.03470464\n",
      "  0.05149877  0.0630962   0.0525758   0.03421609]\n",
      "Step:  3  Cost:  5.54844  LR:  0.01\n",
      "[ 0.06543647  0.05937027  0.04950536  0.06606957  0.05468657  0.04913067\n",
      "  0.07952889  0.03710287  0.0499747   0.07854971  0.07977046  0.05566016\n",
      "  0.06430607  0.07265385  0.07351085  0.06474351]\n",
      "Step:  4  Cost:  6.04989  LR:  0.01\n",
      "[ 0.04560798  0.01791673  0.32442349  0.20264116  0.00406397  0.04860494\n",
      "  0.02226865  0.04862236  0.00338296  0.00666517  0.04201689  0.00186383\n",
      "  0.05805048  0.09404738  0.07119083  0.00863309]\n",
      "Step:  5  Cost:  6.39051  LR:  0.01\n",
      "[ 0.05450487  0.05628817  0.03706028  0.08068715  0.05621886  0.03365282\n",
      "  0.0525203   0.02753979  0.06519162  0.07879068  0.08322603  0.0768593\n",
      "  0.06151545  0.06405467  0.07810732  0.09378271]\n",
      "Step:  6  Cost:  6.73818  LR:  0.01\n",
      "[ 0.06897771  0.06355789  0.04852304  0.06446464  0.07767384  0.04210454\n",
      "  0.05579745  0.04261648  0.0625663   0.07851085  0.07567076  0.07589445\n",
      "  0.05558784  0.04804442  0.06066899  0.07934084]\n",
      "Step:  7  Cost:  6.85553  LR:  0.01\n",
      "[ 0.05260104  0.06340587  0.03412533  0.06890061  0.06735626  0.03650245\n",
      "  0.04614619  0.03673582  0.07147818  0.08471354  0.08095706  0.08659151\n",
      "  0.05402929  0.04673867  0.0654964   0.10422172]\n",
      "Step:  8  Cost:  6.95941  LR:  0.01\n",
      "[ 0.03676534  0.06672862  0.03748342  0.05079023  0.09958377  0.06337336\n",
      "  0.03769775  0.05911447  0.08524711  0.06300191  0.05871114  0.0880826\n",
      "  0.03981804  0.03895168  0.05187721  0.12277333]\n",
      "Step:  9  Cost:  7.05291  LR:  0.01\n",
      "[ 0.04691958  0.06993682  0.03891007  0.05231914  0.05349409  0.03489889\n",
      "  0.03733577  0.03704447  0.10794818  0.06105253  0.0619767   0.08404224\n",
      "  0.05854513  0.06277122  0.07393637  0.11886887]\n",
      "Step:  10  Cost:  6.98689  LR:  0.01\n",
      "[ 0.02311111  0.06345867  0.0384197   0.02747515  0.13421501  0.12781253\n",
      "  0.04048947  0.08158726  0.07530499  0.05948208  0.0430674   0.08415358\n",
      "  0.02052646  0.02981297  0.02150157  0.12958214]\n",
      "Step:  11  Cost:  6.90472  LR:  0.01\n",
      "[ 0.02252615  0.09184416  0.07954887  0.01460784  0.06698677  0.10324093\n",
      "  0.0379113   0.07128931  0.13040569  0.03314747  0.02302793  0.08432811\n",
      "  0.03338585  0.05647775  0.04886322  0.10240865]\n",
      "Step:  12  Cost:  6.73265  LR:  0.01\n",
      "[ 0.05494218  0.08156525  0.08418976  0.04486199  0.07964335  0.06426398\n",
      "  0.04906112  0.05956917  0.08884759  0.05265878  0.04555816  0.06024208\n",
      "  0.05500679  0.05398117  0.05171725  0.07389145]\n"
     ]
    },
    {
     "ename": "KeyboardInterrupt",
     "evalue": "",
     "output_type": "error",
     "traceback": [
      "\u001b[1;31m---------------------------------------------------------------------------\u001b[0m",
      "\u001b[1;31mKeyboardInterrupt\u001b[0m                         Traceback (most recent call last)",
      "\u001b[1;32m<ipython-input-3-4df25252c0d8>\u001b[0m in \u001b[0;36m<module>\u001b[1;34m()\u001b[0m\n\u001b[0;32m     36\u001b[0m         \u001b[0mbatch_yhot\u001b[0m\u001b[1;33m[\u001b[0m\u001b[0mnp\u001b[0m\u001b[1;33m.\u001b[0m\u001b[0marange\u001b[0m\u001b[1;33m(\u001b[0m\u001b[0mBATCH_SIZE\u001b[0m\u001b[1;33m)\u001b[0m\u001b[1;33m,\u001b[0m \u001b[0mbatch_y\u001b[0m\u001b[1;33m.\u001b[0m\u001b[0mastype\u001b[0m\u001b[1;33m(\u001b[0m\u001b[0mnp\u001b[0m\u001b[1;33m.\u001b[0m\u001b[0mint32\u001b[0m\u001b[1;33m)\u001b[0m\u001b[1;33m]\u001b[0m \u001b[1;33m=\u001b[0m \u001b[1;36m1\u001b[0m\u001b[1;33m\u001b[0m\u001b[0m\n\u001b[0;32m     37\u001b[0m \u001b[1;33m\u001b[0m\u001b[0m\n\u001b[1;32m---> 38\u001b[1;33m         \u001b[0mo\u001b[0m\u001b[1;33m,\u001b[0m \u001b[0mlr\u001b[0m \u001b[1;33m=\u001b[0m \u001b[0msess\u001b[0m\u001b[1;33m.\u001b[0m\u001b[0mrun\u001b[0m\u001b[1;33m(\u001b[0m\u001b[1;33m[\u001b[0m\u001b[0moptimizer\u001b[0m\u001b[1;33m,\u001b[0m\u001b[0mmodel\u001b[0m\u001b[1;33m.\u001b[0m\u001b[0mlrn_rate\u001b[0m\u001b[1;33m]\u001b[0m\u001b[1;33m,\u001b[0m \u001b[0mfeed_dict\u001b[0m\u001b[1;33m=\u001b[0m\u001b[1;33m{\u001b[0m\u001b[0mmodel\u001b[0m\u001b[1;33m.\u001b[0m\u001b[0m_images\u001b[0m\u001b[1;33m:\u001b[0m\u001b[0mbatch_x\u001b[0m\u001b[1;33m,\u001b[0m \u001b[0mmodel\u001b[0m\u001b[1;33m.\u001b[0m\u001b[0mlabels\u001b[0m\u001b[1;33m:\u001b[0m\u001b[0mbatch_yhot\u001b[0m\u001b[1;33m}\u001b[0m\u001b[1;33m)\u001b[0m\u001b[1;33m\u001b[0m\u001b[0m\n\u001b[0m\u001b[0;32m     39\u001b[0m \u001b[1;33m\u001b[0m\u001b[0m\n\u001b[0;32m     40\u001b[0m         \u001b[0mcost\u001b[0m\u001b[1;33m,\u001b[0m \u001b[0mpred\u001b[0m \u001b[1;33m=\u001b[0m \u001b[0msess\u001b[0m\u001b[1;33m.\u001b[0m\u001b[0mrun\u001b[0m\u001b[1;33m(\u001b[0m\u001b[1;33m[\u001b[0m\u001b[0mmodel\u001b[0m\u001b[1;33m.\u001b[0m\u001b[0mcost\u001b[0m\u001b[1;33m,\u001b[0m \u001b[0mmodel\u001b[0m\u001b[1;33m.\u001b[0m\u001b[0mpredictions\u001b[0m\u001b[1;33m]\u001b[0m\u001b[1;33m,\u001b[0m \u001b[0mfeed_dict\u001b[0m\u001b[1;33m=\u001b[0m\u001b[1;33m{\u001b[0m\u001b[0mmodel\u001b[0m\u001b[1;33m.\u001b[0m\u001b[0m_images\u001b[0m\u001b[1;33m:\u001b[0m\u001b[0mbatch_x\u001b[0m\u001b[1;33m,\u001b[0m \u001b[0mmodel\u001b[0m\u001b[1;33m.\u001b[0m\u001b[0mlabels\u001b[0m\u001b[1;33m:\u001b[0m\u001b[0mbatch_yhot\u001b[0m\u001b[1;33m}\u001b[0m\u001b[1;33m)\u001b[0m\u001b[1;33m\u001b[0m\u001b[0m\n",
      "\u001b[1;32m/home/cs231n/myVE35/lib/python3.5/site-packages/tensorflow/python/client/session.py\u001b[0m in \u001b[0;36mrun\u001b[1;34m(self, fetches, feed_dict, options, run_metadata)\u001b[0m\n\u001b[0;32m    776\u001b[0m     \u001b[1;32mtry\u001b[0m\u001b[1;33m:\u001b[0m\u001b[1;33m\u001b[0m\u001b[0m\n\u001b[0;32m    777\u001b[0m       result = self._run(None, fetches, feed_dict, options_ptr,\n\u001b[1;32m--> 778\u001b[1;33m                          run_metadata_ptr)\n\u001b[0m\u001b[0;32m    779\u001b[0m       \u001b[1;32mif\u001b[0m \u001b[0mrun_metadata\u001b[0m\u001b[1;33m:\u001b[0m\u001b[1;33m\u001b[0m\u001b[0m\n\u001b[0;32m    780\u001b[0m         \u001b[0mproto_data\u001b[0m \u001b[1;33m=\u001b[0m \u001b[0mtf_session\u001b[0m\u001b[1;33m.\u001b[0m\u001b[0mTF_GetBuffer\u001b[0m\u001b[1;33m(\u001b[0m\u001b[0mrun_metadata_ptr\u001b[0m\u001b[1;33m)\u001b[0m\u001b[1;33m\u001b[0m\u001b[0m\n",
      "\u001b[1;32m/home/cs231n/myVE35/lib/python3.5/site-packages/tensorflow/python/client/session.py\u001b[0m in \u001b[0;36m_run\u001b[1;34m(self, handle, fetches, feed_dict, options, run_metadata)\u001b[0m\n\u001b[0;32m    980\u001b[0m     \u001b[1;32mif\u001b[0m \u001b[0mfinal_fetches\u001b[0m \u001b[1;32mor\u001b[0m \u001b[0mfinal_targets\u001b[0m\u001b[1;33m:\u001b[0m\u001b[1;33m\u001b[0m\u001b[0m\n\u001b[0;32m    981\u001b[0m       results = self._do_run(handle, final_targets, final_fetches,\n\u001b[1;32m--> 982\u001b[1;33m                              feed_dict_string, options, run_metadata)\n\u001b[0m\u001b[0;32m    983\u001b[0m     \u001b[1;32melse\u001b[0m\u001b[1;33m:\u001b[0m\u001b[1;33m\u001b[0m\u001b[0m\n\u001b[0;32m    984\u001b[0m       \u001b[0mresults\u001b[0m \u001b[1;33m=\u001b[0m \u001b[1;33m[\u001b[0m\u001b[1;33m]\u001b[0m\u001b[1;33m\u001b[0m\u001b[0m\n",
      "\u001b[1;32m/home/cs231n/myVE35/lib/python3.5/site-packages/tensorflow/python/client/session.py\u001b[0m in \u001b[0;36m_do_run\u001b[1;34m(self, handle, target_list, fetch_list, feed_dict, options, run_metadata)\u001b[0m\n\u001b[0;32m   1030\u001b[0m     \u001b[1;32mif\u001b[0m \u001b[0mhandle\u001b[0m \u001b[1;32mis\u001b[0m \u001b[1;32mNone\u001b[0m\u001b[1;33m:\u001b[0m\u001b[1;33m\u001b[0m\u001b[0m\n\u001b[0;32m   1031\u001b[0m       return self._do_call(_run_fn, self._session, feed_dict, fetch_list,\n\u001b[1;32m-> 1032\u001b[1;33m                            target_list, options, run_metadata)\n\u001b[0m\u001b[0;32m   1033\u001b[0m     \u001b[1;32melse\u001b[0m\u001b[1;33m:\u001b[0m\u001b[1;33m\u001b[0m\u001b[0m\n\u001b[0;32m   1034\u001b[0m       return self._do_call(_prun_fn, self._session, handle, feed_dict,\n",
      "\u001b[1;32m/home/cs231n/myVE35/lib/python3.5/site-packages/tensorflow/python/client/session.py\u001b[0m in \u001b[0;36m_do_call\u001b[1;34m(self, fn, *args)\u001b[0m\n\u001b[0;32m   1037\u001b[0m   \u001b[1;32mdef\u001b[0m \u001b[0m_do_call\u001b[0m\u001b[1;33m(\u001b[0m\u001b[0mself\u001b[0m\u001b[1;33m,\u001b[0m \u001b[0mfn\u001b[0m\u001b[1;33m,\u001b[0m \u001b[1;33m*\u001b[0m\u001b[0margs\u001b[0m\u001b[1;33m)\u001b[0m\u001b[1;33m:\u001b[0m\u001b[1;33m\u001b[0m\u001b[0m\n\u001b[0;32m   1038\u001b[0m     \u001b[1;32mtry\u001b[0m\u001b[1;33m:\u001b[0m\u001b[1;33m\u001b[0m\u001b[0m\n\u001b[1;32m-> 1039\u001b[1;33m       \u001b[1;32mreturn\u001b[0m \u001b[0mfn\u001b[0m\u001b[1;33m(\u001b[0m\u001b[1;33m*\u001b[0m\u001b[0margs\u001b[0m\u001b[1;33m)\u001b[0m\u001b[1;33m\u001b[0m\u001b[0m\n\u001b[0m\u001b[0;32m   1040\u001b[0m     \u001b[1;32mexcept\u001b[0m \u001b[0merrors\u001b[0m\u001b[1;33m.\u001b[0m\u001b[0mOpError\u001b[0m \u001b[1;32mas\u001b[0m \u001b[0me\u001b[0m\u001b[1;33m:\u001b[0m\u001b[1;33m\u001b[0m\u001b[0m\n\u001b[0;32m   1041\u001b[0m       \u001b[0mmessage\u001b[0m \u001b[1;33m=\u001b[0m \u001b[0mcompat\u001b[0m\u001b[1;33m.\u001b[0m\u001b[0mas_text\u001b[0m\u001b[1;33m(\u001b[0m\u001b[0me\u001b[0m\u001b[1;33m.\u001b[0m\u001b[0mmessage\u001b[0m\u001b[1;33m)\u001b[0m\u001b[1;33m\u001b[0m\u001b[0m\n",
      "\u001b[1;32m/home/cs231n/myVE35/lib/python3.5/site-packages/tensorflow/python/client/session.py\u001b[0m in \u001b[0;36m_run_fn\u001b[1;34m(session, feed_dict, fetch_list, target_list, options, run_metadata)\u001b[0m\n\u001b[0;32m   1019\u001b[0m         return tf_session.TF_Run(session, options,\n\u001b[0;32m   1020\u001b[0m                                  \u001b[0mfeed_dict\u001b[0m\u001b[1;33m,\u001b[0m \u001b[0mfetch_list\u001b[0m\u001b[1;33m,\u001b[0m \u001b[0mtarget_list\u001b[0m\u001b[1;33m,\u001b[0m\u001b[1;33m\u001b[0m\u001b[0m\n\u001b[1;32m-> 1021\u001b[1;33m                                  status, run_metadata)\n\u001b[0m\u001b[0;32m   1022\u001b[0m \u001b[1;33m\u001b[0m\u001b[0m\n\u001b[0;32m   1023\u001b[0m     \u001b[1;32mdef\u001b[0m \u001b[0m_prun_fn\u001b[0m\u001b[1;33m(\u001b[0m\u001b[0msession\u001b[0m\u001b[1;33m,\u001b[0m \u001b[0mhandle\u001b[0m\u001b[1;33m,\u001b[0m \u001b[0mfeed_dict\u001b[0m\u001b[1;33m,\u001b[0m \u001b[0mfetch_list\u001b[0m\u001b[1;33m)\u001b[0m\u001b[1;33m:\u001b[0m\u001b[1;33m\u001b[0m\u001b[0m\n",
      "\u001b[1;31mKeyboardInterrupt\u001b[0m: "
     ]
    }
   ],
   "source": [
    "BATCH_SIZE = 256\n",
    "NUM_CLASSES = 16\n",
    "from classifiers.resnet import *\n",
    "\n",
    "hps = HParams(batch_size=BATCH_SIZE,\n",
    "                         num_classes=NUM_CLASSES,\n",
    "                         min_lrn_rate=0.1,\n",
    "                         lrn_rate=.01,\n",
    "                         num_residual_units=5,\n",
    "                         use_bottleneck=False,\n",
    "                         weight_decay_rate=0.0002,\n",
    "                         relu_leakiness=0.1,\n",
    "                         optimizer='sgd')\n",
    "\n",
    "batch_x, batch_y = utilities.sample_subseq(BATCH_SIZE, x_train, y_train)\n",
    "# Need to reshape \n",
    "batch_yhot= np.zeros((BATCH_SIZE, NUM_CLASSES));\n",
    "batch_yhot[np.arange(BATCH_SIZE), batch_y.astype(np.int32)] = 1\n",
    "LR = 0.1\n",
    "with tf.device('/cpu:0'):\n",
    "#    sess = get_session()\n",
    "#    model = ResNet(hps, batch_x, batch_yhot, 'train')\n",
    "#    model.build_graph()\n",
    "#    optimizer = tf.train.AdamOptimizer(learning_rate=LR).minimize(model.cost)\n",
    "\n",
    "#    init = tf.variables_initializer(tf.global_variables())\n",
    "#    sess.run(init)\n",
    "\n",
    "#    saver = tf.train.Saver()\n",
    "    saver.restore('.')\n",
    "    N_steps = 1000\n",
    "    costs = []\n",
    "    for k in range(N_steps):\n",
    "        batch_x, batch_y = utilities.sample_subseq(BATCH_SIZE, x_train, y_train)\n",
    "        # Need to reshape \n",
    "        batch_yhot= np.zeros((BATCH_SIZE, NUM_CLASSES));\n",
    "        batch_yhot[np.arange(BATCH_SIZE), batch_y.astype(np.int32)] = 1\n",
    "\n",
    "        o, lr = sess.run([optimizer,model.lrn_rate], feed_dict={model._images:batch_x, model.labels:batch_yhot})\n",
    "\n",
    "        cost, pred = sess.run([model.cost, model.predictions], feed_dict={model._images:batch_x, model.labels:batch_yhot})\n",
    "        costs.append(cost)\n",
    "        print('Step: ', k, ' Cost: ', cost, ' LR: ', lr)\n",
    "        print(pred[0])\n",
    "        if(k % 100 is 0 and k > 0): \n",
    "            plt.plot(costs)\n",
    "            plt.show()\n",
    "            saver.save(sess, 'resnet_model', global_step = k)        "
   ]
  },
  {
   "cell_type": "code",
   "execution_count": null,
   "metadata": {
    "collapsed": false,
    "scrolled": false
   },
   "outputs": [],
   "source": [
    "with tf.device('/cpu:0'):\n",
    "    N_steps = 1000\n",
    "    costs = []\n",
    "    for k in range(N_steps):\n",
    "        batch_x, batch_y = utilities.sample_subseq(BATCH_SIZE, x_train, y_train)\n",
    "        # Need to reshape \n",
    "        batch_yhot= np.zeros((BATCH_SIZE, NUM_CLASSES));\n",
    "        batch_yhot[np.arange(BATCH_SIZE), batch_y.astype(np.int32)] = 1\n",
    "\n",
    "        o, lr = sess.run([model.train_op, model.lrn_rate], feed_dict={model._images:batch_x, model.labels:batch_yhot})\n",
    "        \n",
    "        cost, pred = sess.run([model.cost, model.predictions], feed_dict={model._images:batch_x, model.labels:batch_yhot})\n",
    "        costs.append(cost)\n",
    "        print('Step: ', k, ' Cost: ', cost, ' LR: ', lr)\n",
    "        print(pred[0])\n",
    "        if(k % 100 is 0 and k > 0):\n",
    "            plt.plot(costs)\n",
    "            plt.show()\n",
    "    "
   ]
  },
  {
   "cell_type": "code",
   "execution_count": null,
   "metadata": {
    "collapsed": false
   },
   "outputs": [],
   "source": [
    "plt.plot(costs)"
   ]
  },
  {
   "cell_type": "code",
   "execution_count": null,
   "metadata": {
    "collapsed": false
   },
   "outputs": [],
   "source": []
  },
  {
   "cell_type": "code",
   "execution_count": null,
   "metadata": {
    "collapsed": true
   },
   "outputs": [],
   "source": []
  }
 ],
 "metadata": {
  "kernelspec": {
   "display_name": "Python 3",
   "language": "python",
   "name": "python3"
  },
  "language_info": {
   "codemirror_mode": {
    "name": "ipython",
    "version": 3
   },
   "file_extension": ".py",
   "mimetype": "text/x-python",
   "name": "python",
   "nbconvert_exporter": "python",
   "pygments_lexer": "ipython3",
   "version": "3.5.2"
  }
 },
 "nbformat": 4,
 "nbformat_minor": 0
}
